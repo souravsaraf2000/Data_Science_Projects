{
 "cells": [
  {
   "cell_type": "markdown",
   "metadata": {},
   "source": [
    "# Read in the data"
   ]
  },
  {
   "cell_type": "code",
   "execution_count": 1,
   "metadata": {},
   "outputs": [],
   "source": [
    "import pandas as pd\n",
    "import numpy as np\n",
    "import re\n",
    "\n",
    "data_files = [\n",
    "    \"ap_2010.csv\",\n",
    "    \"class_size.csv\",\n",
    "    \"demographics.csv\",\n",
    "    \"graduation.csv\",\n",
    "    \"hs_directory.csv\",\n",
    "    \"sat_results.csv\"\n",
    "]\n",
    "\n",
    "data = {}\n",
    "\n",
    "for f in data_files:\n",
    "    d = pd.read_csv(\"Schools/{0}\".format(f))\n",
    "    data[f.replace(\".csv\", \"\")] = d"
   ]
  },
  {
   "cell_type": "markdown",
   "metadata": {},
   "source": [
    "# Read in the surveys"
   ]
  },
  {
   "cell_type": "code",
   "execution_count": 2,
   "metadata": {},
   "outputs": [],
   "source": [
    "all_survey = pd.read_csv(\"schools/survey_all.txt\", delimiter=\"\\t\", encoding='windows-1252')\n",
    "d75_survey = pd.read_csv(\"schools/d75_survey.txt\", delimiter=\"\\t\", encoding='windows-1252')\n",
    "survey = pd.concat([all_survey, d75_survey], axis=0,sort = True)\n",
    "\n",
    "survey[\"DBN\"] = survey[\"dbn\"]\n",
    "\n",
    "survey_fields = [\n",
    "    \"DBN\", \n",
    "    \"rr_s\", \n",
    "    \"rr_t\", \n",
    "    \"rr_p\", \n",
    "    \"N_s\", \n",
    "    \"N_t\", \n",
    "    \"N_p\", \n",
    "    \"saf_p_11\", \n",
    "    \"com_p_11\", \n",
    "    \"eng_p_11\", \n",
    "    \"aca_p_11\", \n",
    "    \"saf_t_11\", \n",
    "    \"com_t_11\", \n",
    "    \"eng_t_11\", \n",
    "    \"aca_t_11\", \n",
    "    \"saf_s_11\", \n",
    "    \"com_s_11\", \n",
    "    \"eng_s_11\", \n",
    "    \"aca_s_11\", \n",
    "    \"saf_tot_11\", \n",
    "    \"com_tot_11\", \n",
    "    \"eng_tot_11\", \n",
    "    \"aca_tot_11\",\n",
    "]\n",
    "survey = survey.loc[:,survey_fields]\n",
    "data[\"survey\"] = survey"
   ]
  },
  {
   "cell_type": "markdown",
   "metadata": {},
   "source": [
    "# Add DBN columns"
   ]
  },
  {
   "cell_type": "code",
   "execution_count": 3,
   "metadata": {},
   "outputs": [],
   "source": [
    "data[\"hs_directory\"][\"DBN\"] = data[\"hs_directory\"][\"dbn\"]\n",
    "\n",
    "def pad_csd(num):\n",
    "    string_representation = str(num)\n",
    "    if len(string_representation) > 1:\n",
    "        return string_representation\n",
    "    else:\n",
    "        return \"0\" + string_representation\n",
    "    \n",
    "data[\"class_size\"][\"padded_csd\"] = data[\"class_size\"][\"CSD\"].apply(pad_csd)\n",
    "data[\"class_size\"][\"DBN\"] = data[\"class_size\"][\"padded_csd\"] + data[\"class_size\"][\"SCHOOL CODE\"]"
   ]
  },
  {
   "cell_type": "markdown",
   "metadata": {},
   "source": [
    "# Convert columns to numeric"
   ]
  },
  {
   "cell_type": "code",
   "execution_count": 4,
   "metadata": {},
   "outputs": [],
   "source": [
    "cols = ['SAT Math Avg. Score', 'SAT Critical Reading Avg. Score', 'SAT Writing Avg. Score']\n",
    "for c in cols:\n",
    "    data[\"sat_results\"][c] = pd.to_numeric(data[\"sat_results\"][c], errors=\"coerce\")\n",
    "\n",
    "data['sat_results']['sat_score'] = data['sat_results'][cols[0]] + data['sat_results'][cols[1]] + data['sat_results'][cols[2]]\n" #comment,
    "\n",
    "def find_lat(loc):\n",
    "    coords = re.findall(\"\\(.+, .+\\)\", loc)\n",
    "    lat = coords[0].split(\",\")[0].replace(\"(\", \"\")\n",
    "    return lat\n",
    "\n",
    "def find_lon(loc):\n",
    "    coords = re.findall(\"\\(.+, .+\\)\", loc)\n",
    "    lon = coords[0].split(\",\")[1].replace(\")\", \"\").strip()\n",
    "    return lon\n",
    "\n",
    "data[\"hs_directory\"][\"lat\"] = data[\"hs_directory\"][\"Location 1\"].apply(find_lat)\n",
    "data[\"hs_directory\"][\"lon\"] = data[\"hs_directory\"][\"Location 1\"].apply(find_lon)\n",
    "\n",
    "data[\"hs_directory\"][\"lat\"] = pd.to_numeric(data[\"hs_directory\"][\"lat\"], errors=\"coerce\")\n",
    "data[\"hs_directory\"][\"lon\"] = pd.to_numeric(data[\"hs_directory\"][\"lon\"], errors=\"coerce\")"
   ]
  },
  {
   "cell_type": "markdown",
   "metadata": {},
   "source": [
    "# Condense datasets"
   ]
  },
  {
   "cell_type": "code",
   "execution_count": 6,
   "metadata": {},
   "outputs": [],
   "source": [
    "class_size = data[\"class_size\"]\n",
    "class_size = class_size[class_size[\"GRADE \"] == \"09-12\"]\n",
    "class_size = class_size[class_size[\"PROGRAM TYPE\"] == \"GEN ED\"]\n",
    "\n",
    "class_size = class_size.groupby(\"DBN\").agg(np.mean)\n",
    "class_size.reset_index(inplace=True)\n",
    "data[\"class_size\"] = class_size\n",
    "\n",
    "data[\"demographics\"] = data[\"demographics\"][data[\"demographics\"][\"schoolyear\"] == 20112012]\n",
    "\n",
    "data[\"graduation\"] = data[\"graduation\"][data[\"graduation\"][\"Cohort\"] == \"2006\"]\n",
    "data[\"graduation\"] = data[\"graduation\"][data[\"graduation\"][\"Demographic\"] == \"Total Cohort\"]"
   ]
  },
  {
   "cell_type": "markdown",
   "metadata": {},
   "source": [
    "# Convert AP scores to numeric"
   ]
  },
  {
   "cell_type": "code",
   "execution_count": 7,
   "metadata": {},
   "outputs": [],
   "source": [
    "cols = ['AP Test Takers ', 'Total Exams Taken', 'Number of Exams with scores 3 4 or 5']\n",
    "\n",
    "for col in cols:\n",
    "    data[\"ap_2010\"][col] = pd.to_numeric(data[\"ap_2010\"][col], errors=\"coerce\")"
   ]
  },
  {
   "cell_type": "markdown",
   "metadata": {},
   "source": [
    "# Combine the datasets"
   ]
  },
  {
   "cell_type": "code",
   "execution_count": 8,
   "metadata": {},
   "outputs": [],
   "source": [
    "combined = data[\"sat_results\"]\n",
    "\n",
    "combined = combined.merge(data[\"ap_2010\"], on=\"DBN\", how=\"left\")\n",
    "combined = combined.merge(data[\"graduation\"], on=\"DBN\", how=\"left\")\n",
    "\n",
    "to_merge = [\"class_size\", \"demographics\", \"survey\", \"hs_directory\"]\n",
    "\n",
    "for m in to_merge:\n",
    "    combined = combined.merge(data[m], on=\"DBN\", how=\"inner\")\n",
    "\n",
    "combined = combined.fillna(combined.mean())\n",
    "combined = combined.fillna(0)"
   ]
  },
  {
   "cell_type": "markdown",
   "metadata": {},
   "source": [
    "# Add a school district column for mapping"
   ]
  },
  {
   "cell_type": "code",
   "execution_count": 9,
   "metadata": {},
   "outputs": [],
   "source": [
    "def get_first_two_chars(dbn):\n",
    "    return dbn[0:2]\n",
    "\n",
    "combined[\"school_dist\"] = combined[\"DBN\"].apply(get_first_two_chars)"
   ]
  },
  {
   "cell_type": "markdown",
   "metadata": {},
   "source": [
    "# Find correlations"
   ]
  },
  {
   "cell_type": "code",
   "execution_count": 10,
   "metadata": {},
   "outputs": [
    {
     "name": "stdout",
     "output_type": "stream",
     "text": [
      "SAT Critical Reading Avg. Score    0.986820\n",
      "SAT Math Avg. Score                0.972643\n",
      "SAT Writing Avg. Score             0.987771\n",
      "sat_score                          1.000000\n",
      "AP Test Takers                     0.523140\n",
      "                                     ...   \n",
      "Census Tract                       0.048737\n",
      "BIN                                0.052232\n",
      "BBL                                0.044427\n",
      "lat                               -0.121029\n",
      "lon                               -0.132222\n",
      "Name: sat_score, Length: 85, dtype: float64\n"
     ]
    }
   ],
   "source": [
    "correlations = combined.corr()\n",
    "correlations = correlations[\"sat_score\"]\n",
    "print(correlations)"
   ]
  },
  {
   "cell_type": "markdown",
   "metadata": {},
   "source": [
    "# Plotting survey correlations"
   ]
  },
  {
   "cell_type": "code",
   "execution_count": 11,
   "metadata": {},
   "outputs": [],
   "source": [
    "# Remove DBN since it's a unique identifier, not a useful numerical value for correlation.\n",
    "survey_fields.remove(\"DBN\")"
   ]
  },
  {
   "cell_type": "markdown",
   "metadata": {},
   "source": [
    "## survey_fields vs sat_score plot"
   ]
  },
  {
   "cell_type": "code",
   "execution_count": 12,
   "metadata": {},
   "outputs": [
    {
     "data": {
      "text/plain": [
       "<matplotlib.axes._subplots.AxesSubplot at 0x23ed8be9c08>"
      ]
     },
     "execution_count": 12,
     "metadata": {},
     "output_type": "execute_result"
    },
    {
     "data": {
      "image/png": "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\n",
      "text/plain": [
       "<Figure size 432x288 with 1 Axes>"
      ]
     },
     "metadata": {
      "needs_background": "light"
     },
     "output_type": "display_data"
    }
   ],
   "source": [
    "import matplotlib.pyplot as plt\n",
    "%matplotlib inline\n",
    "correlations[survey_fields].plot.bar()"
   ]
  },
  {
   "cell_type": "markdown",
   "metadata": {},
   "source": [
    "## Exploring Safety and SAT Scores\n"
   ]
  },
  {
   "cell_type": "code",
   "execution_count": 13,
   "metadata": {},
   "outputs": [
    {
     "data": {
      "text/plain": [
       "<matplotlib.axes._subplots.AxesSubplot at 0x23ed8b64b88>"
      ]
     },
     "execution_count": 13,
     "metadata": {},
     "output_type": "execute_result"
    },
    {
     "data": {
      "image/png": "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\n",
      "text/plain": [
       "<Figure size 432x288 with 1 Axes>"
      ]
     },
     "metadata": {
      "needs_background": "light"
     },
     "output_type": "display_data"
    }
   ],
   "source": [
    "combined.plot.scatter(x = \"saf_s_11\", y = \"sat_score\")"
   ]
  },
  {
   "cell_type": "code",
   "execution_count": 20,
   "metadata": {},
   "outputs": [
    {
     "data": {
      "text/html": [
       "<div>\n",
       "<style scoped>\n",
       "    .dataframe tbody tr th:only-of-type {\n",
       "        vertical-align: middle;\n",
       "    }\n",
       "\n",
       "    .dataframe tbody tr th {\n",
       "        vertical-align: top;\n",
       "    }\n",
       "\n",
       "    .dataframe thead th {\n",
       "        text-align: right;\n",
       "    }\n",
       "</style>\n",
       "<table border=\"1\" class=\"dataframe\">\n",
       "  <thead>\n",
       "    <tr style=\"text-align: right;\">\n",
       "      <th></th>\n",
       "      <th>school_dist</th>\n",
       "      <th>SAT Critical Reading Avg. Score</th>\n",
       "      <th>SAT Math Avg. Score</th>\n",
       "      <th>SAT Writing Avg. Score</th>\n",
       "      <th>sat_score</th>\n",
       "      <th>AP Test Takers</th>\n",
       "      <th>Total Exams Taken</th>\n",
       "      <th>Number of Exams with scores 3 4 or 5</th>\n",
       "      <th>Total Cohort</th>\n",
       "      <th>Total Grads - % of cohort</th>\n",
       "      <th>...</th>\n",
       "      <th>priority08</th>\n",
       "      <th>priority09</th>\n",
       "      <th>priority10</th>\n",
       "      <th>Community Board</th>\n",
       "      <th>Council District</th>\n",
       "      <th>Census Tract</th>\n",
       "      <th>BIN</th>\n",
       "      <th>BBL</th>\n",
       "      <th>lat</th>\n",
       "      <th>lon</th>\n",
       "    </tr>\n",
       "  </thead>\n",
       "  <tbody>\n",
       "    <tr>\n",
       "      <td>0</td>\n",
       "      <td>01</td>\n",
       "      <td>441.833333</td>\n",
       "      <td>473.333333</td>\n",
       "      <td>439.333333</td>\n",
       "      <td>1354.500000</td>\n",
       "      <td>116.681090</td>\n",
       "      <td>173.019231</td>\n",
       "      <td>135.800000</td>\n",
       "      <td>93.500000</td>\n",
       "      <td>71.333333</td>\n",
       "      <td>...</td>\n",
       "      <td>0.0</td>\n",
       "      <td>0.0</td>\n",
       "      <td>0.0</td>\n",
       "      <td>3.000000</td>\n",
       "      <td>1.500000</td>\n",
       "      <td>1106.833333</td>\n",
       "      <td>1.004144e+06</td>\n",
       "      <td>1.003302e+09</td>\n",
       "      <td>40.719022</td>\n",
       "      <td>-73.982377</td>\n",
       "    </tr>\n",
       "    <tr>\n",
       "      <td>1</td>\n",
       "      <td>02</td>\n",
       "      <td>426.619092</td>\n",
       "      <td>444.186256</td>\n",
       "      <td>424.832836</td>\n",
       "      <td>1295.638184</td>\n",
       "      <td>128.908454</td>\n",
       "      <td>201.516827</td>\n",
       "      <td>157.495833</td>\n",
       "      <td>158.647849</td>\n",
       "      <td>75.453574</td>\n",
       "      <td>...</td>\n",
       "      <td>0.0</td>\n",
       "      <td>0.0</td>\n",
       "      <td>0.0</td>\n",
       "      <td>4.204005</td>\n",
       "      <td>2.963296</td>\n",
       "      <td>1132.479744</td>\n",
       "      <td>1.103862e+06</td>\n",
       "      <td>1.070438e+09</td>\n",
       "      <td>40.739699</td>\n",
       "      <td>-73.991386</td>\n",
       "    </tr>\n",
       "    <tr>\n",
       "      <td>2</td>\n",
       "      <td>03</td>\n",
       "      <td>428.529851</td>\n",
       "      <td>437.997512</td>\n",
       "      <td>426.915672</td>\n",
       "      <td>1293.443035</td>\n",
       "      <td>156.183494</td>\n",
       "      <td>244.522436</td>\n",
       "      <td>193.087500</td>\n",
       "      <td>183.384409</td>\n",
       "      <td>74.029937</td>\n",
       "      <td>...</td>\n",
       "      <td>0.0</td>\n",
       "      <td>0.0</td>\n",
       "      <td>0.0</td>\n",
       "      <td>7.500000</td>\n",
       "      <td>6.500000</td>\n",
       "      <td>166.666667</td>\n",
       "      <td>1.034931e+06</td>\n",
       "      <td>1.012833e+09</td>\n",
       "      <td>40.781574</td>\n",
       "      <td>-73.977370</td>\n",
       "    </tr>\n",
       "    <tr>\n",
       "      <td>3</td>\n",
       "      <td>04</td>\n",
       "      <td>402.142857</td>\n",
       "      <td>416.285714</td>\n",
       "      <td>405.714286</td>\n",
       "      <td>1224.142857</td>\n",
       "      <td>129.016484</td>\n",
       "      <td>183.879121</td>\n",
       "      <td>151.035714</td>\n",
       "      <td>113.857143</td>\n",
       "      <td>76.257143</td>\n",
       "      <td>...</td>\n",
       "      <td>0.0</td>\n",
       "      <td>0.0</td>\n",
       "      <td>0.0</td>\n",
       "      <td>11.000000</td>\n",
       "      <td>8.000000</td>\n",
       "      <td>2637.000000</td>\n",
       "      <td>1.055874e+06</td>\n",
       "      <td>1.016681e+09</td>\n",
       "      <td>40.793449</td>\n",
       "      <td>-73.943215</td>\n",
       "    </tr>\n",
       "    <tr>\n",
       "      <td>4</td>\n",
       "      <td>05</td>\n",
       "      <td>427.159915</td>\n",
       "      <td>438.236674</td>\n",
       "      <td>419.666098</td>\n",
       "      <td>1285.062687</td>\n",
       "      <td>85.722527</td>\n",
       "      <td>115.725275</td>\n",
       "      <td>142.464286</td>\n",
       "      <td>143.677419</td>\n",
       "      <td>75.200881</td>\n",
       "      <td>...</td>\n",
       "      <td>0.0</td>\n",
       "      <td>0.0</td>\n",
       "      <td>0.0</td>\n",
       "      <td>9.428571</td>\n",
       "      <td>8.142857</td>\n",
       "      <td>9372.571429</td>\n",
       "      <td>1.063080e+06</td>\n",
       "      <td>1.019721e+09</td>\n",
       "      <td>40.817077</td>\n",
       "      <td>-73.949251</td>\n",
       "    </tr>\n",
       "  </tbody>\n",
       "</table>\n",
       "<p>5 rows × 86 columns</p>\n",
       "</div>"
      ],
      "text/plain": [
       "  school_dist  SAT Critical Reading Avg. Score  SAT Math Avg. Score  \\\n",
       "0          01                       441.833333           473.333333   \n",
       "1          02                       426.619092           444.186256   \n",
       "2          03                       428.529851           437.997512   \n",
       "3          04                       402.142857           416.285714   \n",
       "4          05                       427.159915           438.236674   \n",
       "\n",
       "   SAT Writing Avg. Score    sat_score  AP Test Takers   Total Exams Taken  \\\n",
       "0              439.333333  1354.500000       116.681090         173.019231   \n",
       "1              424.832836  1295.638184       128.908454         201.516827   \n",
       "2              426.915672  1293.443035       156.183494         244.522436   \n",
       "3              405.714286  1224.142857       129.016484         183.879121   \n",
       "4              419.666098  1285.062687        85.722527         115.725275   \n",
       "\n",
       "   Number of Exams with scores 3 4 or 5  Total Cohort  \\\n",
       "0                            135.800000     93.500000   \n",
       "1                            157.495833    158.647849   \n",
       "2                            193.087500    183.384409   \n",
       "3                            151.035714    113.857143   \n",
       "4                            142.464286    143.677419   \n",
       "\n",
       "   Total Grads - % of cohort  ...  priority08  priority09  priority10  \\\n",
       "0                  71.333333  ...         0.0         0.0         0.0   \n",
       "1                  75.453574  ...         0.0         0.0         0.0   \n",
       "2                  74.029937  ...         0.0         0.0         0.0   \n",
       "3                  76.257143  ...         0.0         0.0         0.0   \n",
       "4                  75.200881  ...         0.0         0.0         0.0   \n",
       "\n",
       "   Community Board  Council District  Census Tract           BIN  \\\n",
       "0         3.000000          1.500000   1106.833333  1.004144e+06   \n",
       "1         4.204005          2.963296   1132.479744  1.103862e+06   \n",
       "2         7.500000          6.500000    166.666667  1.034931e+06   \n",
       "3        11.000000          8.000000   2637.000000  1.055874e+06   \n",
       "4         9.428571          8.142857   9372.571429  1.063080e+06   \n",
       "\n",
       "            BBL        lat        lon  \n",
       "0  1.003302e+09  40.719022 -73.982377  \n",
       "1  1.070438e+09  40.739699 -73.991386  \n",
       "2  1.012833e+09  40.781574 -73.977370  \n",
       "3  1.016681e+09  40.793449 -73.943215  \n",
       "4  1.019721e+09  40.817077 -73.949251  \n",
       "\n",
       "[5 rows x 86 columns]"
      ]
     },
     "execution_count": 20,
     "metadata": {},
     "output_type": "execute_result"
    }
   ],
   "source": [
    "district = combined.groupby('school_dist').agg(np.mean)\n",
    "district = district.reset_index()\n",
    "district.head()"
   ]
  },
  {
   "cell_type": "code",
   "execution_count": 22,
   "metadata": {},
   "outputs": [
    {
     "data": {
      "image/png": "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\n",
      "text/plain": [
       "<Figure size 432x288 with 1 Axes>"
      ]
     },
     "metadata": {},
     "output_type": "display_data"
    }
   ],
   "source": [
    "import os\n",
    "os.environ['PROJ_LIB'] = r'C:\\Users\\Sourav Saraf\\Anaconda3\\pkgs\\proj4-5.2.0-h6538335_1006\\Library\\share'\n",
    "from mpl_toolkits.basemap import Basemap\n",
    "import matplotlib.pyplot as plt\n",
    "m = Basemap(\n",
    "    projection='merc', \n",
    "    llcrnrlat=40.496044, \n",
    "    urcrnrlat=40.915256, \n",
    "    llcrnrlon=-74.255735, \n",
    "    urcrnrlon=-73.700272,\n",
    "    resolution='i'\n",
    ")\n",
    "\n",
    "m.drawmapboundary(fill_color='#85A6D9')\n",
    "m.drawcoastlines(color='#6D5F47', linewidth=.4)\n",
    "m.drawrivers(color='#6D5F47', linewidth=.4)\n",
    "longitudes = district['lon'].tolist()\n",
    "latitudes = district['lat'].tolist()\n",
    "m.scatter(longitudes,latitudes,s=50,zorder=2,latlon=True , c=district[\"saf_s_11\"],cmap = \"summer\")\n",
    "plt.show()"
   ]
  },
  {
   "cell_type": "markdown",
   "metadata": {},
   "source": [
    "## Exploring Race and SAT Scores\n"
   ]
  },
  {
   "cell_type": "code",
   "execution_count": 35,
   "metadata": {},
   "outputs": [
    {
     "data": {
      "text/plain": [
       "<matplotlib.axes._subplots.AxesSubplot at 0x23edb7d6dc8>"
      ]
     },
     "execution_count": 35,
     "metadata": {},
     "output_type": "execute_result"
    },
    {
     "data": {
      "image/png": "iVBORw0KGgoAAAANSUhEUgAAAXwAAAEtCAYAAAALNduYAAAABHNCSVQICAgIfAhkiAAAAAlwSFlzAAALEgAACxIB0t1+/AAAADh0RVh0U29mdHdhcmUAbWF0cGxvdGxpYiB2ZXJzaW9uMy4yLjIsIGh0dHA6Ly9tYXRwbG90bGliLm9yZy+WH4yJAAAW/UlEQVR4nO3de5RlZX3m8e9DQ+MF8RJaRaBpkmkhaLwWeE28ohAScOIlmDhiRu2ZpSYmznIFNeNEyGQYXcZJDBoRh0GdiQOaaCudAILjKEqkUUQutrQEQw9G0KCiCAj+5o+9C8qyurrqnEPvPvV+P2ux6uyz3zr7tzbVT7317r3fN1WFJGnl223oAiRJO4eBL0mNMPAlqREGviQ1wsCXpEbsPnQB27PPPvvUunXrhi5DkqbKJZdc8u2qWrPQvl028NetW8fmzZuHLkOSpkqSb2xvn0M6ktQIA1+SGmHgS1IjDHxJaoSBL0mNMPAlqREGviQ1wsCXpEbssg9e3RPWnXD20CUsybUnHz10CZJWoIn08JMcmWRLkq1JTthOmxcluTLJFUn+1ySOK0laurF7+ElWAacARwDbgIuTbKyqK+e0WQ+8AXhKVd2U5MHjHleStDyT6OEfDmytqmuq6nbgQ8Cx89q8Ejilqm4CqKobJnBcSdIyTCLw9wOum7O9rX9vrocDD09yYZKLkhy50Acl2ZBkc5LNN9544wRKkyTNmkTgZ4H35q+MvjuwHng68GLgtCQP+Jlvqjq1qmaqambNmgVn95QkjWgSgb8NOGDO9v7A9Qu0+VhV/biq/hHYQvcLQJK0k0wi8C8G1ic5KMlq4Dhg47w2HwWeAZBkH7ohnmsmcGxJ0hKNHfhVdQfwGuAc4CrgzKq6IsmJSY7pm50DfCfJlcCngNdX1XfGPbYkaekm8uBVVW0CNs17781zXhfwuv4/SdIAmnrSVpPlk8vSdHEuHUlqhIEvSY0w8CWpEQa+JDXCwJekRhj4ktQIA1+SGmHgS1IjDHxJaoSBL0mNMPAlqREGviQ1wsCXpEYY+JLUCANfkhph4EtSIwx8SWqEgS9JjTDwJakRBr4kNcLAl6RGGPiS1AgDX5IaYeBLUiMMfElqhIEvSY0w8CWpEQa+JDXCwJekRkwk8JMcmWRLkq1JTlik3QuSVJKZSRxXkrR0Ywd+klXAKcBRwKHAi5McukC7+wG/B/zDuMeUJC3fJHr4hwNbq+qaqrod+BBw7ALtTgLeCtw6gWNKkpZpEoG/H3DdnO1t/Xt3SfJY4ICq+sRiH5RkQ5LNSTbfeOONEyhNkjRrEoGfBd6ru3YmuwHvAP7Djj6oqk6tqpmqmlmzZs0ESpMkzZpE4G8DDpizvT9w/Zzt+wGPBP5PkmuBJwIbvXArSTvXJAL/YmB9koOSrAaOAzbO7qyq71XVPlW1rqrWARcBx1TV5gkcW5K0RGMHflXdAbwGOAe4Cjizqq5IcmKSY8b9fEnSZOw+iQ+pqk3ApnnvvXk7bZ8+iWNKkpbHJ20lqREGviQ1wsCXpEYY+JLUCANfkhph4EtSIwx8SWqEgS9JjTDwJakRBr4kNcLAl6RGGPiS1AgDX5IaYeBLUiMMfElqhIEvSY0w8CWpEQa+JDXCwJekRhj4ktQIA1+SGmHgS1IjDHxJaoSBL0mNMPAlqREGviQ1wsCXpEYY+JLUCANfkhph4EtSIyYS+EmOTLIlydYkJyyw/3VJrkxyWZLzkxw4ieNKkpZu7MBPsgo4BTgKOBR4cZJD5zX7EjBTVY8CPgy8ddzjSpKWZxI9/MOBrVV1TVXdDnwIOHZug6r6VFXd0m9eBOw/geNKkpZhEoG/H3DdnO1t/Xvb83Lg7xbakWRDks1JNt94440TKE2SNGsSgZ8F3qsFGyYvAWaAty20v6pOraqZqppZs2bNBEqTJM3afQKfsQ04YM72/sD18xsleTbwJuBpVXXbBI4rSVqGSfTwLwbWJzkoyWrgOGDj3AZJHgu8Bzimqm6YwDElScs0duBX1R3Aa4BzgKuAM6vqiiQnJjmmb/Y2YC/grCSXJtm4nY+TJN1DJjGkQ1VtAjbNe+/Nc14/exLHkSSNzidtJakRBr4kNcLAl6RGGPiS1AgDX5IaYeBLUiMMfElqhIEvSY0w8CWpEQa+JDXCwJekRhj4ktQIA1+SGmHgS1IjDHxJaoSBL0mNMPAlqREGviQ1wsCXpEYY+JLUCANfkhph4EtSIwx8SWqEgS9JjTDwJakRBr4kNcLAl6RGGPiS1AgDX5IaYeBLUiMmEvhJjkyyJcnWJCcssH/PJP+73/8PSdZN4riSpKUbO/CTrAJOAY4CDgVenOTQec1eDtxUVf8KeAfwX8c9riRpeSbRwz8c2FpV11TV7cCHgGPntTkWOKN//WHgWUkygWNLkpZo9wl8xn7AdXO2twFP2F6bqrojyfeAnwO+PbdRkg3ABoC1a9dOoLSfdu3JR0/8M1vm+ZysdSecPXQJSzIN/989lwubRA9/oZ56jdCGqjq1qmaqambNmjUTKE2SNGsSgb8NOGDO9v7A9dtrk2R34P7Av0zg2JKkJZpE4F8MrE9yUJLVwHHAxnltNgLH969fAFxQVT/Tw5ck3XPGHsPvx+RfA5wDrAL+e1VdkeREYHNVbQTeB3wgyVa6nv1x4x5XkrQ8k7hoS1VtAjbNe+/Nc17fCrxwEseSJI3GJ20lqREGviQ1wsCXpEYY+JLUCANfkhph4EtSIwx8SWqEgS9JjTDwJakRBr4kNcLAl6RGGPiS1AgDX5IaYeBLUiMMfElqhIEvSY0w8CWpEQa+JDXCwJekRhj4ktQIA1+SGmHgS1IjDHxJaoSBL0mNMPAlqREGviQ1wsCXpEYY+JLUCANfkhoxVuAneVCS85Jc3X994AJtHpPk80muSHJZkt8c55iSpNGM28M/ATi/qtYD5/fb890CvLSqHgEcCfy3JA8Y87iSpGUaN/CPBc7oX58BPG9+g6r6WlVd3b++HrgBWDPmcSVJyzRu4D+kqr4J0H998GKNkxwOrAa+PuZxJUnLtPuOGiT5JPDQBXa9aTkHSrIv8AHg+Kr6yXbabAA2AKxdu3Y5Hy9J2oEdBn5VPXt7+5J8K8m+VfXNPtBv2E67vYGzgT+qqosWOdapwKkAMzMztaPaJElLN+6Qzkbg+P718cDH5jdIshr4W+D9VXXWmMeTJI1o3MA/GTgiydXAEf02SWaSnNa3eRHwK8DLklza//eYMY8rSVqmHQ7pLKaqvgM8a4H3NwOv6F9/EPjgOMeRJI3PJ20lqREGviQ1wsCXpEYY+JLUCANfkhph4EtSIwx8SWqEgS9JjTDwJakRBr4kNcLAl6RGjDWXjqTJufbko4cuQSucPXxJaoSBL0mNMPAlqREGviQ1wsCXpEYY+JLUCANfkhph4EtSIwx8SWqEgS9JjTDwJakRBr4kNcLAl6RGGPiS1AgDX5IaYeBLUiMMfElqhIEvSY0YK/CTPCjJeUmu7r8+cJG2eyf5f0n+cpxjSpJGM24P/wTg/KpaD5zfb2/PScCnxzyeJGlE4wb+scAZ/eszgOct1CjJ44GHAOeOeTxJ0oh2H/P7H1JV3wSoqm8mefD8Bkl2A94O/BvgWYt9WJINwAaAtWvXjlmapFZde/LRQ5ewS9ph4Cf5JPDQBXa9aYnHeBWwqaquS7Jow6o6FTgVYGZmppb4+ZKkJdhh4FfVs7e3L8m3kuzb9+73BW5YoNmTgF9O8ipgL2B1kh9U1WLj/ZKkCRt3SGcjcDxwcv/1Y/MbVNVvz75O8jJgxrCXpJ1v3Iu2JwNHJLkaOKLfJslMktPGLU6SNDmp2jWHymdmZmrz5s1DlyFJUyXJJVU1s9A+n7SVpEYY+JLUCANfkhph4EtSI3bZi7ZJbgS+MXQdS7AP8O2hi1hBPJ+T5fmcnGk5lwdW1ZqFduyygT8tkmze3hVxLZ/nc7I8n5OzEs6lQzqS1AgDX5IaYeCP79ShC1hhPJ+T5fmcnKk/l47hS1Ij7OFLUiMMfElqhIEvSY0w8DWoJLslefLQdUgLSeeAoeuYFAN/mZKs6pd91ARU1U/o1jzWBPS/QC8fuo6Vorq7Wj46dB2TYuAvU1XdCdyS5P5D17KCnJvk+dnRosfaof4X6JeTrB26lhXkoiSHDV3EJHhb5giSnAk8ETgP+OHs+1X1e4MVNcWS3AzcF7gT+BEQus7V3oMWNqWSXAAcBnyBn/75PGawoqZYkiuBg4Fr6c7n7M/no4asaxTjrmnbqrP7/zQBVXW/oWtYYd4ydAErzFFDFzAp9vBHlOTewNqq2jJ0LdOuH8r5beCgqjqpv0i2b1V9YeDSplaSA4H1VfXJJPcBVlXVzUPXNa2SPJXufJ6eZA2wV1X949B1LZdj+CNI8uvApcDf99uPSbJx2Kqm2ruAJwG/1W//ADhluHKmW5JXAh8G3tO/tR8r6MLjzpbkPwF/CLyhf2sP4IPDVTQ6A380fwwcDnwXoKouBQ4asqAp94SqejVwK0BV3QSsHrakqfZq4CnA9wGq6mrgwYNWNN3+NXAM/fWQqroemMphSAN/NHdU1ffmvefY2Oh+nGQV/Tns/2T+ybAlTbXbqur22Y0ku+PP5zhu72/PnP35vO/A9YzMwB/N5Ul+C1iVZH2SdwKfG7qoKfYXwN8CD0nyn4HPAn86bElT7dNJ3gjcO8kRwFnAxweuaZqdmeQ9wAP64bJPAu8duKaReNF2BP1FsDcBz6G7Resc4KSqunXQwqZYkkOAZ/WbF1TVVUPWM82S7Aa8nJ/++Tyt/Mc+sv4X53P6zXOr6rwh6xmVgT+GJHvT3Y/r3Q9jSvI44Kl0fzZfWFVfHLikqZZkNXAI3fncMneIR8uX5KF01+0KuLiq/nngkkbikM4IkhyW5CvAZcBXknw5yeOHrmtaJXkzcAbwILqFok9P8kfDVjW9khwNfJ1uqOwvga1JVsy95DtbklfQPcT2G8AL6J68/bfDVjUae/gjSHIZ8Oqq+ky//VTgXdP45N2uIMlVwGNnh8T6Zxy+WFW/OGxl0ynJV4Ffq6qt/fYvAGdX1SHDVjadkmwBnlxV3+m3fw74XFUdPGxly2cPfzQ3z4Y9QFV9FnBYZ3TXAveas70nXQ9Vo7lhNux71wA3DFXMCrCNn/73fTNw3UC1jMUe/giSvAO4D/DXdGN6vwncBHwEwPHn5UnyUbq5X86jO59H0N2pcwM4R9FyJXk3cCBwJt35fCGwBbgQoKr+Zrjqpk+S9wO/BHyM7nweSzfE8zWAqvqz4apbHgN/BEk+tcjuqqpn7rRiVoAkxy+2v6rO2Fm1rARJTl9kd1XVVI4/D6V/0na7qmpq5i4y8O8BSY43pCYnyUeq6vlD17FSJHlDVf2XoetYKZK8s6p+d+g6lsIx/HvGa4cuYIX5+aELWGFeOHQBK8xThi5gqQz8e4YLeUyWf4ZOlj+fjTLw7xkGlHZl/nw2ysC/Z9iDmizP52R5Pidras6ngX/PuHDoAlaYPxy6gGmS5EELvDd3+u6zdmI5LfjzoQtYKu/SGUGSh9DN5viwqjoqyaHAk6rqfQOXNpWSPIVujYED6ZbdnF0z1Iu1I0hyIXBUVX2/3z4UOLOqHjlsZdMpyXnAC6vqu/32A4EPVdVzh61s+ezhj+Z/0M1A+LB++2vA7w9WzfR7H/BndJOnHQbM9F81mj8FPp5kr36Op7OAlwxc0zTbZzbs4a4FeqZyQRkXMR/NPlV1ZpI3AFTVHUnuHLqoKfa9qvq7oYtYKarq7CR7AOfSrcz0vH7VK43mJ0nWVtU/wV3rBU/l0IiBP5of9hMoza6A80Rg/gpYWrpPJXkb8DfAbbNvOkXF8vQL8cwNor3p5tH53SROUTG6NwGfTfLpfvtXgA0D1jMyx/BH0M/d/k7gkcDlwBq6Mb4vD1rYlNrOVBVOUbFMTlFxz0myD/BEuutLn6+qbw9c0kgM/BEk2RO4EziY7gdgC7BbVd226DdKO0G/5uqtVXVnv70K2LOqbhm2sumS5JCq+mrfwfsZ0/gXqIE/giRfrKrH7eg9LV2/aMcjmDNNclWdOFxF0yvJRcCzq+oH/fZedMvyPXnYyqZLklOrasNK+gvUMfxl6Jc5249ucejHcvcDF3vTTZesEST5K7rz9wzgNLpVhb4waFHT7V6zYQ9QVT/o12HWMlTVhv7rM4auZVIM/OV5LvAyYH+62whn3Qy8cYiCVognV9WjklxWVW9J8na6C7gazQ+TPG52yKG/NfNHA9c01ZI8GVjHnMysqvcPVtCIDPxl6C96nZHk+VX1kaHrWUFmw+iWJA8DvgMctEh7Le73gbOSXN9v70u3SI9GkOQDwC8Al9Jdu4PubigDfyVL8pKq+iCwLsnr5u+fppVvdjGfSPIA4G3AF+n+MZ02bEnTq6ouTnIId99U8NWq+vHAZU2zGeDQWgEXPA385blv/3WvQatYYarqpP7lR5J8gm4M2ucaxnMwcCjdRfDH9vfhT12PdBdxOfBQ4JtDFzIu79LRYJI8s6ouSPIbC+137dXR9EvyPZ0u8DcBRwGfraoXDFnXtOrv0nkM3Y0Ecx8MPGawokZkD38ESdYAr+RnL+K4VujyPA24APj1BfYVXrgd1QuARwNfqqrf6Sf7c4hsdH88dAGTYg9/BEk+B3wGuIS7L+LghVztCpJ8oaoOT3IJ3a2uNwOXV9UjBi5NA7OHP5r7VJVztE9IktcCp9MF03uBxwEnVNW5gxY2vTb3F8HfS9cp+QE+1zCyfq6sdwK/CKwGVgE/rKq9By1sBPbwR5DkT4DPVdWmoWtZCZJ8uaoeneS5wKuB/wic7pPL40uyDti7qi4buJSplWQzcBzdNNMzwEuB9VU1dc/e2MNfhiQ3c/dshG9MchtwR79d0/gbfxcx+8Tyr9IF/ZeTTM2ycbuK7c35MrtvGud+2VVU1dYkq/r5iU7vh3WnjoG/DFV1P7jrQYzPAJ+pqquGrWpFuCTJuXQPW70hyf2Anwxc0zR6+5zXc/90T789dXO/7CJuSbIauDTJW+luz7zvDr5nl+SQzgiSPJNudaZfBn4e+BJd+E/N2pa7kiS70d32tgewJ7APsF9VvXPQwqZUknsDr6L7GS26zsm7q+rWQQubUv2CJ9+iG7//A+D+wLuqauughY3AwB9RP+XsYXR3Qfx74EdVdciwVU2nJK8AXks3R9GldPOOf34aZyPcFSQ5E/g+8D/7t14MPKCqXjRcVdOt7+EfQvcLdEtV3T5wSSNxSGcESc6n+5Pu83S9p8Oq6oZhq5pqr6X75XlRVT2jnxbgLQPXNM0OrqpHz9n+VBIX5xlRP3X3XwFfpxseOyjJv5vGZTldxHw0lwG306149Sjgkf2f0RrNrbPDDUn2rKqv0k0NoNF8qb+VEIAkTwAuHLCeafd24BlV9fSqehrdX/XvGLimkdjDH0FV/QHctbDE79DdQ/5QuvFnLd+2/r7xjwLnJbkJuH4H36N5knyFbshhD+ClSf6p3z4QuHLI2qbcDfPG668BpvIvesfwR5DkNXQXbB8PfAP4v3QXbS8YtLAVIMnT6C6K/f20jpMOpb+4uF1V9Y2dVctKkuTddL80z6T7BfpCumVNL4TpmvPJwB9BktfThfwlVXXHjtpLml5JTl9kd03THFoGviQ1wou2krSIJG9NsneSPZKcn+TbSV4ydF2jMPAlaXHPqarvA78GbAMeDrx+2JJGY+BL0uL26L/+KvDXVfUvQxYzDm/LlKTFfTzJV4EfAa/qF0CaymkqvGgrSTuQ5IHA96vqziT3oZty+p+Hrmu57OFL0gIWWnN53qzdU3P//SwDX5IWNn/N5dnhkNnppqcu8B3SkaRFJLkX8HxgHXd3kquqThysqBHZw5ekxX0U+C7wRe6+WDuVPWV7+JK0iCSXV9Ujh65jErwPX5IW97kkvzR0EZNgD1+SFjBnuundgfV00yLfRn/RtqoeNWB5IzHwJWkBK3G6aQNfkhrhGL4kNcLAl6RGGPiS1AgDX5Ia8f8BZoRqK5WuWsEAAAAASUVORK5CYII=\n",
      "text/plain": [
       "<Figure size 432x288 with 1 Axes>"
      ]
     },
     "metadata": {
      "needs_background": "light"
     },
     "output_type": "display_data"
    }
   ],
   "source": [
    "race = combined[[\"white_per\",\"asian_per\",\"black_per\",\"hispanic_per\",\"sat_score\"]]\n",
    "race.corr()[\"sat_score\"][0:4].plot.bar()"
   ]
  },
  {
   "cell_type": "markdown",
   "metadata": {},
   "source": [
    "White and Asian race has a positive correlation whereas Black and Hispanic have negative correlation."
   ]
  },
  {
   "cell_type": "code",
   "execution_count": 37,
   "metadata": {},
   "outputs": [
    {
     "data": {
      "text/plain": [
       "<matplotlib.axes._subplots.AxesSubplot at 0x23ee349be08>"
      ]
     },
     "execution_count": 37,
     "metadata": {},
     "output_type": "execute_result"
    },
    {
     "data": {
      "image/png": "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\n",
      "text/plain": [
       "<Figure size 432x288 with 1 Axes>"
      ]
     },
     "metadata": {
      "needs_background": "light"
     },
     "output_type": "display_data"
    }
   ],
   "source": [
    "combined.plot.scatter(x=\"hispanic_per\",y=\"sat_score\")"
   ]
  },
  {
   "cell_type": "code",
   "execution_count": 40,
   "metadata": {},
   "outputs": [
    {
     "data": {
      "text/plain": [
       "44                         MANHATTAN BRIDGES HIGH SCHOOL\n",
       "82      WASHINGTON HEIGHTS EXPEDITIONARY LEARNING SCHOOL\n",
       "89     GREGORIO LUPERON HIGH SCHOOL FOR SCIENCE AND M...\n",
       "125                  ACADEMY FOR LANGUAGE AND TECHNOLOGY\n",
       "141                INTERNATIONAL SCHOOL FOR LIBERAL ARTS\n",
       "176     PAN AMERICAN INTERNATIONAL HIGH SCHOOL AT MONROE\n",
       "253                            MULTICULTURAL HIGH SCHOOL\n",
       "286               PAN AMERICAN INTERNATIONAL HIGH SCHOOL\n",
       "Name: SCHOOL NAME, dtype: object"
      ]
     },
     "execution_count": 40,
     "metadata": {},
     "output_type": "execute_result"
    }
   ],
   "source": [
    "combined[combined[\"hispanic_per\"]>95][\"SCHOOL NAME\"]"
   ]
  },
  {
   "cell_type": "code",
   "execution_count": 48,
   "metadata": {},
   "outputs": [
    {
     "data": {
      "text/plain": [
       "37                                STUYVESANT HIGH SCHOOL\n",
       "151                         BRONX HIGH SCHOOL OF SCIENCE\n",
       "187                       BROOKLYN TECHNICAL HIGH SCHOOL\n",
       "327    QUEENS HIGH SCHOOL FOR THE SCIENCES AT YORK CO...\n",
       "356                  STATEN ISLAND TECHNICAL HIGH SCHOOL\n",
       "Name: SCHOOL NAME, dtype: object"
      ]
     },
     "execution_count": 48,
     "metadata": {},
     "output_type": "execute_result"
    }
   ],
   "source": [
    "less_10 = combined[combined[\"hispanic_per\"]<10]\n",
    "sat_1800 = less_10[less_10[\"sat_score\"]>1800]\n",
    "sat_1800[\"SCHOOL NAME\"]"
   ]
  },
  {
   "cell_type": "markdown",
   "metadata": {},
   "source": [
    "##  Exploring Gender and SAT Scores"
   ]
  },
  {
   "cell_type": "code",
   "execution_count": 49,
   "metadata": {},
   "outputs": [
    {
     "data": {
      "text/plain": [
       "<matplotlib.axes._subplots.AxesSubplot at 0x23ee353c088>"
      ]
     },
     "execution_count": 49,
     "metadata": {},
     "output_type": "execute_result"
    },
    {
     "data": {
      "image/png": "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\n",
      "text/plain": [
       "<Figure size 432x288 with 1 Axes>"
      ]
     },
     "metadata": {
      "needs_background": "light"
     },
     "output_type": "display_data"
    }
   ],
   "source": [
    "gender = ['male_per','female_per']\n",
    "combined.corr()[\"sat_score\"][gender].plot.bar()"
   ]
  },
  {
   "cell_type": "code",
   "execution_count": 50,
   "metadata": {},
   "outputs": [
    {
     "data": {
      "text/plain": [
       "<matplotlib.axes._subplots.AxesSubplot at 0x23ee3545088>"
      ]
     },
     "execution_count": 50,
     "metadata": {},
     "output_type": "execute_result"
    },
    {
     "data": {
      "image/png": "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\n",
      "text/plain": [
       "<Figure size 432x288 with 1 Axes>"
      ]
     },
     "metadata": {
      "needs_background": "light"
     },
     "output_type": "display_data"
    }
   ],
   "source": [
    "combined.plot.scatter(x=\"female_per\",y=\"sat_score\")"
   ]
  },
  {
   "cell_type": "code",
   "execution_count": 52,
   "metadata": {},
   "outputs": [
    {
     "data": {
      "text/plain": [
       "5                         BARD HIGH SCHOOL EARLY COLLEGE\n",
       "26                         ELEANOR ROOSEVELT HIGH SCHOOL\n",
       "60                                    BEACON HIGH SCHOOL\n",
       "61     FIORELLO H. LAGUARDIA HIGH SCHOOL OF MUSIC & A...\n",
       "302                          TOWNSEND HARRIS HIGH SCHOOL\n",
       "Name: SCHOOL NAME, dtype: object"
      ]
     },
     "execution_count": 52,
     "metadata": {},
     "output_type": "execute_result"
    }
   ],
   "source": [
    "female_60 = combined[combined[\"female_per\"]>60]\n",
    "sat_1700 = female_60[female_60[\"sat_score\"]>1700]\n",
    "sat_1700[\"SCHOOL NAME\"]"
   ]
  },
  {
   "cell_type": "markdown",
   "metadata": {},
   "source": [
    "## Exploring AP Scores vs. SAT Scores"
   ]
  },
  {
   "cell_type": "code",
   "execution_count": 54,
   "metadata": {},
   "outputs": [],
   "source": [
    "combined[\"ap_per\"] = combined[\"AP Test Takers \"]/combined[\"total_enrollment\"]"
   ]
  },
  {
   "cell_type": "code",
   "execution_count": 55,
   "metadata": {},
   "outputs": [
    {
     "data": {
      "text/plain": [
       "<matplotlib.axes._subplots.AxesSubplot at 0x23ee358f308>"
      ]
     },
     "execution_count": 55,
     "metadata": {},
     "output_type": "execute_result"
    },
    {
     "data": {
      "image/png": "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\n",
      "text/plain": [
       "<Figure size 432x288 with 1 Axes>"
      ]
     },
     "metadata": {
      "needs_background": "light"
     },
     "output_type": "display_data"
    }
   ],
   "source": [
    "combined.plot.scatter(x = \"ap_per\" , y = \"sat_score\")"
   ]
  },
  {
   "cell_type": "markdown",
   "metadata": {},
   "source": [
    "We can see positive correlation in 2 different directions."
   ]
  },
  {
   "cell_type": "markdown",
   "metadata": {},
   "source": [
    "## Thank You !!"
   ]
  }
 ],
 "metadata": {
  "kernelspec": {
   "display_name": "Python 3",
   "language": "python",
   "name": "python3"
  },
  "language_info": {
   "codemirror_mode": {
    "name": "ipython",
    "version": 3
   },
   "file_extension": ".py",
   "mimetype": "text/x-python",
   "name": "python",
   "nbconvert_exporter": "python",
   "pygments_lexer": "ipython3",
   "version": "3.7.4"
  }
 },
 "nbformat": 4,
 "nbformat_minor": 2
}
